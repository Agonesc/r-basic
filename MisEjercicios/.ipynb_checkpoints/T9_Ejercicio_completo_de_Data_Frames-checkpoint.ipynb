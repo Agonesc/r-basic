{
 "cells": [
  {
   "cell_type": "code",
   "execution_count": 88,
   "id": "ca099755",
   "metadata": {},
   "outputs": [],
   "source": [
    "# Se imnportan las librerías que se van a usar\n",
    "import pandas as pd\n",
    "import numpy as np"
   ]
  },
  {
   "cell_type": "code",
   "execution_count": 3,
   "id": "2844317e",
   "metadata": {},
   "outputs": [],
   "source": [
    "df = pd.read_csv(\"../data/run.csv\")"
   ]
  },
  {
   "cell_type": "code",
   "execution_count": 4,
   "id": "53718d9c",
   "metadata": {},
   "outputs": [
    {
     "data": {
      "text/html": [
       "<div>\n",
       "<style scoped>\n",
       "    .dataframe tbody tr th:only-of-type {\n",
       "        vertical-align: middle;\n",
       "    }\n",
       "\n",
       "    .dataframe tbody tr th {\n",
       "        vertical-align: top;\n",
       "    }\n",
       "\n",
       "    .dataframe thead th {\n",
       "        text-align: right;\n",
       "    }\n",
       "</style>\n",
       "<table border=\"1\" class=\"dataframe\">\n",
       "  <thead>\n",
       "    <tr style=\"text-align: right;\">\n",
       "      <th></th>\n",
       "      <th>Unnamed: 0</th>\n",
       "      <th>pulso.antes</th>\n",
       "      <th>pulso.despues</th>\n",
       "      <th>hace.deporte</th>\n",
       "      <th>fuma</th>\n",
       "      <th>genero</th>\n",
       "      <th>altura</th>\n",
       "      <th>peso</th>\n",
       "      <th>tipo.actividad</th>\n",
       "    </tr>\n",
       "  </thead>\n",
       "  <tbody>\n",
       "    <tr>\n",
       "      <th>0</th>\n",
       "      <td>1</td>\n",
       "      <td>48</td>\n",
       "      <td>54</td>\n",
       "      <td>no</td>\n",
       "      <td>si</td>\n",
       "      <td>H</td>\n",
       "      <td>68.0</td>\n",
       "      <td>150</td>\n",
       "      <td>nula</td>\n",
       "    </tr>\n",
       "    <tr>\n",
       "      <th>1</th>\n",
       "      <td>2</td>\n",
       "      <td>54</td>\n",
       "      <td>56</td>\n",
       "      <td>no</td>\n",
       "      <td>si</td>\n",
       "      <td>H</td>\n",
       "      <td>69.0</td>\n",
       "      <td>145</td>\n",
       "      <td>moderada</td>\n",
       "    </tr>\n",
       "    <tr>\n",
       "      <th>2</th>\n",
       "      <td>3</td>\n",
       "      <td>54</td>\n",
       "      <td>50</td>\n",
       "      <td>no</td>\n",
       "      <td>no</td>\n",
       "      <td>H</td>\n",
       "      <td>69.0</td>\n",
       "      <td>160</td>\n",
       "      <td>moderada</td>\n",
       "    </tr>\n",
       "    <tr>\n",
       "      <th>3</th>\n",
       "      <td>4</td>\n",
       "      <td>58</td>\n",
       "      <td>70</td>\n",
       "      <td>si</td>\n",
       "      <td>no</td>\n",
       "      <td>H</td>\n",
       "      <td>72.0</td>\n",
       "      <td>145</td>\n",
       "      <td>moderada</td>\n",
       "    </tr>\n",
       "    <tr>\n",
       "      <th>4</th>\n",
       "      <td>5</td>\n",
       "      <td>58</td>\n",
       "      <td>58</td>\n",
       "      <td>no</td>\n",
       "      <td>no</td>\n",
       "      <td>H</td>\n",
       "      <td>66.0</td>\n",
       "      <td>135</td>\n",
       "      <td>intensa</td>\n",
       "    </tr>\n",
       "    <tr>\n",
       "      <th>...</th>\n",
       "      <td>...</td>\n",
       "      <td>...</td>\n",
       "      <td>...</td>\n",
       "      <td>...</td>\n",
       "      <td>...</td>\n",
       "      <td>...</td>\n",
       "      <td>...</td>\n",
       "      <td>...</td>\n",
       "      <td>...</td>\n",
       "    </tr>\n",
       "    <tr>\n",
       "      <th>87</th>\n",
       "      <td>88</td>\n",
       "      <td>92</td>\n",
       "      <td>94</td>\n",
       "      <td>no</td>\n",
       "      <td>si</td>\n",
       "      <td>H</td>\n",
       "      <td>69.0</td>\n",
       "      <td>150</td>\n",
       "      <td>moderada</td>\n",
       "    </tr>\n",
       "    <tr>\n",
       "      <th>88</th>\n",
       "      <td>89</td>\n",
       "      <td>94</td>\n",
       "      <td>92</td>\n",
       "      <td>no</td>\n",
       "      <td>si</td>\n",
       "      <td>M</td>\n",
       "      <td>62.0</td>\n",
       "      <td>131</td>\n",
       "      <td>moderada</td>\n",
       "    </tr>\n",
       "    <tr>\n",
       "      <th>89</th>\n",
       "      <td>90</td>\n",
       "      <td>96</td>\n",
       "      <td>140</td>\n",
       "      <td>si</td>\n",
       "      <td>no</td>\n",
       "      <td>M</td>\n",
       "      <td>61.0</td>\n",
       "      <td>140</td>\n",
       "      <td>moderada</td>\n",
       "    </tr>\n",
       "    <tr>\n",
       "      <th>90</th>\n",
       "      <td>91</td>\n",
       "      <td>96</td>\n",
       "      <td>116</td>\n",
       "      <td>si</td>\n",
       "      <td>no</td>\n",
       "      <td>M</td>\n",
       "      <td>68.0</td>\n",
       "      <td>116</td>\n",
       "      <td>moderada</td>\n",
       "    </tr>\n",
       "    <tr>\n",
       "      <th>91</th>\n",
       "      <td>92</td>\n",
       "      <td>100</td>\n",
       "      <td>115</td>\n",
       "      <td>si</td>\n",
       "      <td>si</td>\n",
       "      <td>M</td>\n",
       "      <td>63.0</td>\n",
       "      <td>121</td>\n",
       "      <td>moderada</td>\n",
       "    </tr>\n",
       "  </tbody>\n",
       "</table>\n",
       "<p>92 rows × 9 columns</p>\n",
       "</div>"
      ],
      "text/plain": [
       "    Unnamed: 0  pulso.antes  pulso.despues hace.deporte fuma genero  altura  \\\n",
       "0            1           48             54           no   si      H    68.0   \n",
       "1            2           54             56           no   si      H    69.0   \n",
       "2            3           54             50           no   no      H    69.0   \n",
       "3            4           58             70           si   no      H    72.0   \n",
       "4            5           58             58           no   no      H    66.0   \n",
       "..         ...          ...            ...          ...  ...    ...     ...   \n",
       "87          88           92             94           no   si      H    69.0   \n",
       "88          89           94             92           no   si      M    62.0   \n",
       "89          90           96            140           si   no      M    61.0   \n",
       "90          91           96            116           si   no      M    68.0   \n",
       "91          92          100            115           si   si      M    63.0   \n",
       "\n",
       "    peso tipo.actividad  \n",
       "0    150           nula  \n",
       "1    145       moderada  \n",
       "2    160       moderada  \n",
       "3    145       moderada  \n",
       "4    135        intensa  \n",
       "..   ...            ...  \n",
       "87   150       moderada  \n",
       "88   131       moderada  \n",
       "89   140       moderada  \n",
       "90   116       moderada  \n",
       "91   121       moderada  \n",
       "\n",
       "[92 rows x 9 columns]"
      ]
     },
     "execution_count": 4,
     "metadata": {},
     "output_type": "execute_result"
    }
   ],
   "source": [
    "df"
   ]
  },
  {
   "cell_type": "code",
   "execution_count": 7,
   "id": "d353ae55",
   "metadata": {},
   "outputs": [
    {
     "data": {
      "text/plain": [
       "(92, 9)"
      ]
     },
     "execution_count": 7,
     "metadata": {},
     "output_type": "execute_result"
    }
   ],
   "source": [
    "df.shape\n",
    "# Podemos saber tanto con shape (dimensiones del dataframe) que tiene 92 estudiantes"
   ]
  },
  {
   "cell_type": "code",
   "execution_count": 17,
   "id": "04a5a306",
   "metadata": {},
   "outputs": [
    {
     "data": {
      "text/plain": [
       "(57, 9)"
      ]
     },
     "execution_count": 17,
     "metadata": {},
     "output_type": "execute_result"
    }
   ],
   "source": [
    "df.loc[df[\"genero\"]==\"H\"].shape\n",
    "# Hay 57 estudiantes que son hombres "
   ]
  },
  {
   "cell_type": "code",
   "execution_count": 91,
   "id": "4f9693ad",
   "metadata": {},
   "outputs": [
    {
     "data": {
      "text/plain": [
       "(35, 10)"
      ]
     },
     "execution_count": 91,
     "metadata": {},
     "output_type": "execute_result"
    }
   ],
   "source": [
    "df.loc[df[\"genero\"]==\"M\"].shape\n",
    "# Hay 35 estudiantes que son mujeres"
   ]
  },
  {
   "cell_type": "code",
   "execution_count": 85,
   "id": "9d9c3a01",
   "metadata": {},
   "outputs": [
    {
     "data": {
      "text/plain": [
       "hace.deporte\n",
       "no     0.209479\n",
       "si    26.215407\n",
       "Name: variacion, dtype: float64"
      ]
     },
     "execution_count": 85,
     "metadata": {},
     "output_type": "execute_result"
    }
   ],
   "source": [
    "def percentage_difference(x):\n",
    "    x[\"variacion\"] = ((x[\"pulso.despues\"]-x[\"pulso.antes\"])/x[\"pulso.antes\"])*100\n",
    "    return x\n",
    "\n",
    "df2 = df.groupby(\"hace.deporte\").apply(percentage_difference)\n",
    "\n",
    "df2.groupby(\"hace.deporte\")[df3.columns[-1]].mean()\n",
    "\n",
    "# Hay una diferencia alrededor de un 26% de aumento de pulsaciones tras realizar el ejercicio"
   ]
  },
  {
   "cell_type": "code",
   "execution_count": 86,
   "id": "6af08fcc",
   "metadata": {},
   "outputs": [
    {
     "data": {
      "text/plain": [
       "genero\n",
       "H     8.219198\n",
       "M    13.171009\n",
       "Name: variacion, dtype: float64"
      ]
     },
     "execution_count": 86,
     "metadata": {},
     "output_type": "execute_result"
    }
   ],
   "source": [
    "df3 = df.groupby(\"genero\").apply(percentage_difference)\n",
    "\n",
    "df3.groupby(\"genero\")[df3.columns[-1]].mean()\n",
    "\n",
    "# Hay una diferencia alrededor del 5% de aumento de pulsaciones mayor para las mujeres que para los hombres"
   ]
  },
  {
   "cell_type": "code",
   "execution_count": 83,
   "id": "905dbea4",
   "metadata": {},
   "outputs": [
    {
     "data": {
      "text/plain": [
       "fuma\n",
       "no    10.528515\n",
       "si     9.130521\n",
       "Name: variacion, dtype: float64"
      ]
     },
     "execution_count": 83,
     "metadata": {},
     "output_type": "execute_result"
    }
   ],
   "source": [
    "df3 = df.groupby(\"fuma\").apply(percentage_difference)\n",
    "\n",
    "df3.groupby(\"fuma\")[df3.columns[-1]].mean()\n",
    "\n",
    "# Hay una diferencia alrededor del 1.4% de aumento de pulsaciones mayor para los no fumadores"
   ]
  },
  {
   "cell_type": "code",
   "execution_count": 87,
   "id": "14776325",
   "metadata": {},
   "outputs": [
    {
     "data": {
      "text/plain": [
       "tipo.actividad\n",
       "intensa      1.347475\n",
       "moderada    14.015695\n",
       "nula        12.500000\n",
       "suave        3.747241\n",
       "Name: variacion, dtype: float64"
      ]
     },
     "execution_count": 87,
     "metadata": {},
     "output_type": "execute_result"
    }
   ],
   "source": [
    "df3 = df.groupby(\"tipo.actividad\").apply(percentage_difference)\n",
    "\n",
    "df3.groupby(\"tipo.actividad\")[df3.columns[-1]].mean()\n",
    "\n",
    "# Podemos ver que la mayor diferencia tras hacer ejercicio es para los que hacen ejercicio moderado, de alrededor del 14%"
   ]
  }
 ],
 "metadata": {
  "kernelspec": {
   "display_name": "Python 3 (ipykernel)",
   "language": "python",
   "name": "python3"
  },
  "language_info": {
   "codemirror_mode": {
    "name": "ipython",
    "version": 3
   },
   "file_extension": ".py",
   "mimetype": "text/x-python",
   "name": "python",
   "nbconvert_exporter": "python",
   "pygments_lexer": "ipython3",
   "version": "3.9.7"
  }
 },
 "nbformat": 4,
 "nbformat_minor": 5
}
