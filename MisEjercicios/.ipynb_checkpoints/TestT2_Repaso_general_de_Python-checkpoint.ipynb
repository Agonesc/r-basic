{
 "cells": [
  {
   "cell_type": "markdown",
   "id": "71663fe4",
   "metadata": {},
   "source": [
    "# Repaso General de Python\n"
   ]
  },
  {
   "cell_type": "code",
   "execution_count": 32,
   "id": "94ac6acf",
   "metadata": {},
   "outputs": [],
   "source": [
    "import math"
   ]
  },
  {
   "cell_type": "markdown",
   "id": "4b82403d",
   "metadata": {},
   "source": [
    "## Pregunta 1"
   ]
  },
  {
   "cell_type": "code",
   "execution_count": 9,
   "id": "fbce2c27",
   "metadata": {},
   "outputs": [],
   "source": [
    "def isPositive ():\n",
    "    number = float(input(\"Introduce un número real: \"))\n",
    "    if (number > 0):\n",
    "        print (\"El número \" + str(number) + \" es positivo\")\n",
    "    else:\n",
    "        print (\"El número \" + str(number) + \" NO es positivo\")\n",
    "        "
   ]
  },
  {
   "cell_type": "code",
   "execution_count": 6,
   "id": "e3c7c4b6",
   "metadata": {},
   "outputs": [
    {
     "name": "stdout",
     "output_type": "stream",
     "text": [
      "Introduce un número real: -5.9\n",
      "El número -5.9 NO es positivo\n"
     ]
    }
   ],
   "source": [
    "isPositive()\n"
   ]
  },
  {
   "cell_type": "code",
   "execution_count": 7,
   "id": "b1adafba",
   "metadata": {},
   "outputs": [
    {
     "name": "stdout",
     "output_type": "stream",
     "text": [
      "Introduce un número real: 4.2\n",
      "El número 4.2 es positivo\n"
     ]
    }
   ],
   "source": [
    "isPositive()\n"
   ]
  },
  {
   "cell_type": "markdown",
   "id": "e419ee0d",
   "metadata": {},
   "source": [
    "## Pregunta 2"
   ]
  },
  {
   "cell_type": "code",
   "execution_count": 10,
   "id": "2e390bed",
   "metadata": {},
   "outputs": [],
   "source": [
    "def isInRange ():\n",
    "    number = float(input(\"Introduce un número real: \"))\n",
    "    if (number >= -5 and number <= 5):\n",
    "        print (\"El número \" + str(number) + \" está en el rango entre -5 y 5\")\n",
    "    else:\n",
    "        print (\"El número \" + str(number) + \" NO está en el rango entre -5 y 5\")"
   ]
  },
  {
   "cell_type": "code",
   "execution_count": 11,
   "id": "4afba7f3",
   "metadata": {},
   "outputs": [
    {
     "name": "stdout",
     "output_type": "stream",
     "text": [
      "Introduce un número real: -6\n",
      "El número -6.0 NO está en el rango entre -5 y 5\n"
     ]
    }
   ],
   "source": [
    "isInRange()"
   ]
  },
  {
   "cell_type": "code",
   "execution_count": 12,
   "id": "338608a2",
   "metadata": {},
   "outputs": [
    {
     "name": "stdout",
     "output_type": "stream",
     "text": [
      "Introduce un número real: 3\n",
      "El número 3.0 está en el rango entre -5 y 5\n"
     ]
    }
   ],
   "source": [
    "isInRange()"
   ]
  },
  {
   "cell_type": "markdown",
   "id": "f0873845",
   "metadata": {},
   "source": [
    "## Pregunta 3\n",
    "### Se toma como primer cuadrante el x positivo e y positivo, siendo el resto 2º, 3º y 4º en sentido antihorario"
   ]
  },
  {
   "cell_type": "code",
   "execution_count": 21,
   "id": "20e2e878",
   "metadata": {},
   "outputs": [],
   "source": [
    "def axisPosition (x, y):\n",
    "    if (x == 0 and y == 0):\n",
    "        print(\"El punto se encuentra en el origen de coordenadas\")\n",
    "    elif (x == 0):\n",
    "        print (\"El punto se encuentra sobre el eje vertical\")\n",
    "    elif (y == 0):\n",
    "        print (\"El punto se encuentra sobre el eje horizontal\")\n",
    "    elif (x > 0):\n",
    "        if (y > 0):\n",
    "            print(\"El punto se encuentra en el primer cuadrante\")\n",
    "        elif (y < 0): \n",
    "            print(\"El punto se encuentra en el segundo cuadrante\")\n",
    "    elif (x < 0):\n",
    "        if (y > 0):\n",
    "            print(\"El punto se encuentra en el cuarto cuadrante\")\n",
    "        elif (y < 0): \n",
    "            print(\"El punto se encuentra en el tercer cuadrante\")"
   ]
  },
  {
   "cell_type": "code",
   "execution_count": 22,
   "id": "77e95d72",
   "metadata": {},
   "outputs": [
    {
     "name": "stdout",
     "output_type": "stream",
     "text": [
      "El punto se encuentra en el origen de coordenadas\n",
      "El punto se encuentra sobre el eje vertical\n",
      "El punto se encuentra sobre el eje vertical\n",
      "El punto se encuentra sobre el eje horizontal\n",
      "El punto se encuentra sobre el eje horizontal\n"
     ]
    }
   ],
   "source": [
    "axisPosition(0,0)\n",
    "axisPosition(0,1)\n",
    "axisPosition(0,-1)\n",
    "axisPosition(1,0)\n",
    "axisPosition(-1,0)"
   ]
  },
  {
   "cell_type": "code",
   "execution_count": 25,
   "id": "5bb61bff",
   "metadata": {},
   "outputs": [
    {
     "name": "stdout",
     "output_type": "stream",
     "text": [
      "El punto se encuentra en el primer cuadrante\n",
      "El punto se encuentra en el segundo cuadrante\n",
      "El punto se encuentra en el tercer cuadrante\n",
      "El punto se encuentra en el cuarto cuadrante\n"
     ]
    }
   ],
   "source": [
    "axisPosition(1,1)\n",
    "axisPosition(1,-1)\n",
    "axisPosition(-1,-1)\n",
    "axisPosition(-1,1)"
   ]
  },
  {
   "cell_type": "markdown",
   "id": "690099ab",
   "metadata": {},
   "source": [
    "## Pregunta 4"
   ]
  },
  {
   "cell_type": "code",
   "execution_count": 30,
   "id": "026059a8",
   "metadata": {},
   "outputs": [],
   "source": [
    "def division (x, y):\n",
    "    print (\"El cociente de la división entera entre \" + str(x) + \" y \" + str(y) + \" es: \" + str(x//y))\n",
    "    print (\"El resto de la división entera entre \" + str(x) + \" y \" + str(y) + \" es: \" + str(math.fmod(x,y)))"
   ]
  },
  {
   "cell_type": "code",
   "execution_count": 33,
   "id": "acc0f569",
   "metadata": {},
   "outputs": [
    {
     "name": "stdout",
     "output_type": "stream",
     "text": [
      "El cociente de la división entera entre 7 y 3 es: 2\n",
      "El resto de la división entera entre 7 y 3 es: 1.0\n"
     ]
    }
   ],
   "source": [
    "division(7,3)"
   ]
  },
  {
   "cell_type": "markdown",
   "id": "9f7cc0b8",
   "metadata": {},
   "source": [
    "## Pregunta 5"
   ]
  },
  {
   "cell_type": "code",
   "execution_count": 50,
   "id": "b1abc0f8",
   "metadata": {},
   "outputs": [],
   "source": [
    "def isPerfectSquare (x):\n",
    "    return int(math.sqrt(x))**2 == x"
   ]
  },
  {
   "cell_type": "code",
   "execution_count": 51,
   "id": "8d216298",
   "metadata": {},
   "outputs": [
    {
     "data": {
      "text/plain": [
       "False"
      ]
     },
     "execution_count": 51,
     "metadata": {},
     "output_type": "execute_result"
    }
   ],
   "source": [
    "isPerfectSquare(2)"
   ]
  },
  {
   "cell_type": "code",
   "execution_count": 53,
   "id": "10c52a9e",
   "metadata": {},
   "outputs": [
    {
     "data": {
      "text/plain": [
       "True"
      ]
     },
     "execution_count": 53,
     "metadata": {},
     "output_type": "execute_result"
    }
   ],
   "source": [
    "isPerfectSquare(4)"
   ]
  },
  {
   "cell_type": "markdown",
   "id": "6b857b5d",
   "metadata": {},
   "source": [
    "## Pregunta 6"
   ]
  },
  {
   "cell_type": "code",
   "execution_count": 86,
   "id": "3a3b16ce",
   "metadata": {},
   "outputs": [],
   "source": [
    "def leapYear (x):\n",
    "    if (x%4 == 0):\n",
    "        if (x >= 100): \n",
    "            if (x%100 == 0 and x%400 == 0):\n",
    "                print(\"El año \" + str(x) + \" es bisiesto\")\n",
    "            else:\n",
    "                print(\"El año \" + str(x) + \" NO es bisiesto\")\n",
    "        else:\n",
    "            print(\"El año \" + str(x) + \" es bisiesto\")\n",
    "    else:\n",
    "        print(\"El año \" + str(x) + \" NO es bisiesto\")"
   ]
  },
  {
   "cell_type": "code",
   "execution_count": 96,
   "id": "0354374b",
   "metadata": {},
   "outputs": [
    {
     "name": "stdout",
     "output_type": "stream",
     "text": [
      "El año 4 es bisiesto\n",
      "El año 2000 es bisiesto\n",
      "El año 2100 NO es bisiesto\n",
      "El año 2400 es bisiesto\n"
     ]
    }
   ],
   "source": [
    "leapYear(4)\n",
    "leapYear(2000)\n",
    "leapYear(2100)\n",
    "leapYear(2400)"
   ]
  },
  {
   "cell_type": "markdown",
   "id": "fe2ccf5b",
   "metadata": {},
   "source": [
    "## Pregunta 7"
   ]
  },
  {
   "cell_type": "code",
   "execution_count": 105,
   "id": "97d33ee9",
   "metadata": {},
   "outputs": [],
   "source": [
    "def isBlackOrWhite ():\n",
    "    letter = input(\"Introduce una letra desde la a hasta la h ambas incluidas: \")\n",
    "    number = float(input(\"Introduce un número entero entre el 1 y el 8 ambos incluidos: \"))\n",
    "    letterInNumber = ord(letter) - 96\n",
    "    \n",
    "    if (number%2 == 0):\n",
    "        if (letterInNumber%2 == 0):\n",
    "            print(\"La casilla \" + letter + str(int(number)) + \" es de color negro\")\n",
    "        else:\n",
    "            print(\"La casilla \" + letter + str(int(number)) + \" es de color blanco\")\n",
    "    else:\n",
    "        if (letterInNumber%2 == 0):\n",
    "            print(\"La casilla \" + letter + str(int(number)) + \" es de color blanco\")\n",
    "        else:\n",
    "            print(\"La casilla \" + letter + str(int(number)) + \" es de color negro\")\n",
    "      "
   ]
  },
  {
   "cell_type": "code",
   "execution_count": 109,
   "id": "c1f8a488",
   "metadata": {},
   "outputs": [
    {
     "name": "stdout",
     "output_type": "stream",
     "text": [
      "Introduce una letra desde la a hasta la h ambas incluidas: f\n",
      "Introduce un número entero entre el 1 y el 8 ambos incluidos: 5\n",
      "La casilla f5 es de color blanco\n"
     ]
    }
   ],
   "source": [
    "isBlackOrWhite()"
   ]
  }
 ],
 "metadata": {
  "kernelspec": {
   "display_name": "Python 3 (ipykernel)",
   "language": "python",
   "name": "python3"
  },
  "language_info": {
   "codemirror_mode": {
    "name": "ipython",
    "version": 3
   },
   "file_extension": ".py",
   "mimetype": "text/x-python",
   "name": "python",
   "nbconvert_exporter": "python",
   "pygments_lexer": "ipython3",
   "version": "3.9.7"
  }
 },
 "nbformat": 4,
 "nbformat_minor": 5
}
