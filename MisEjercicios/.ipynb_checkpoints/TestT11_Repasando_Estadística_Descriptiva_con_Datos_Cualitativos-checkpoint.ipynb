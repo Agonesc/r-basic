{
 "cells": [
  {
   "cell_type": "code",
   "execution_count": 7,
   "id": "c3e66c25-6a95-4253-8c87-1be4c6054f64",
   "metadata": {},
   "outputs": [],
   "source": [
    "import numpy as np"
   ]
  },
  {
   "cell_type": "code",
   "execution_count": 8,
   "id": "a03c7e6a-d78c-4aac-a061-5c1f0caa2912",
   "metadata": {},
   "outputs": [],
   "source": [
    "import pandas as pd"
   ]
  },
  {
   "cell_type": "markdown",
   "id": "5d43eba4-3f1e-4d42-a84c-ef418bea91ec",
   "metadata": {},
   "source": [
    "## Pregunta 1\n",
    "Da la instrucción que defina la tabla de frecuencias absolutas de un vector llamado alumnos.\n"
   ]
  },
  {
   "cell_type": "code",
   "execution_count": null,
   "id": "5a58d110-685e-48f5-9e72-39d1283dbcff",
   "metadata": {},
   "outputs": [],
   "source": []
  }
 ],
 "metadata": {
  "kernelspec": {
   "display_name": "Python 3 (ipykernel)",
   "language": "python",
   "name": "python3"
  },
  "language_info": {
   "codemirror_mode": {
    "name": "ipython",
    "version": 3
   },
   "file_extension": ".py",
   "mimetype": "text/x-python",
   "name": "python",
   "nbconvert_exporter": "python",
   "pygments_lexer": "ipython3",
   "version": "3.9.7"
  }
 },
 "nbformat": 4,
 "nbformat_minor": 5
}
