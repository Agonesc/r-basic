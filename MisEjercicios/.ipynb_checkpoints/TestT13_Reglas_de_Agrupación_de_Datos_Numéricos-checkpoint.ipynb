{
 "cells": [
  {
   "cell_type": "markdown",
   "id": "fe2dd3e2-bb8f-43ec-9f7d-228e3c16ab5e",
   "metadata": {},
   "source": [
    "## Pregunta 1\n",
    "Da el algoritmo para reproducir el proceso de generación de clases y sus marcas donde el número de clases\n",
    "ha sido obtenido con la regla de la Scott en Python.\n"
   ]
  },
  {
   "cell_type": "code",
   "execution_count": 40,
   "id": "84c12834-c437-4965-bcbc-db1d9bc54071",
   "metadata": {},
   "outputs": [],
   "source": [
    "import numpy as np\n",
    "import pandas as pd\n",
    "from math import ceil"
   ]
  },
  {
   "cell_type": "code",
   "execution_count": 34,
   "id": "689248a7-79b7-44bc-9bd3-6343fd47f877",
   "metadata": {},
   "outputs": [
    {
     "data": {
      "text/plain": [
       "0      28.3\n",
       "1      22.5\n",
       "2      26.0\n",
       "3      24.8\n",
       "4      26.0\n",
       "       ... \n",
       "168    26.1\n",
       "169    29.0\n",
       "170    28.0\n",
       "171    27.0\n",
       "172    24.5\n",
       "Name: width, Length: 173, dtype: float64"
      ]
     },
     "execution_count": 34,
     "metadata": {},
     "output_type": "execute_result"
    }
   ],
   "source": [
    "crabs = pd.read_csv(\"../data/datacrab.txt\", sep=\" \")\n",
    "cw = crabs.width\n",
    "cw"
   ]
  },
  {
   "cell_type": "code",
   "execution_count": 95,
   "id": "5e5ceeed-d5d7-421e-9c0e-7105763edb6f",
   "metadata": {},
   "outputs": [],
   "source": [
    "def returnClassesAndMarks(data, k):\n",
    "    value = (max(data) - min(data)) / k\n",
    "    #Ajustamos la precisión\n",
    "    A = ceil(value * 10) / 10\n",
    "    \n",
    "    L1 = min(data)-1/2*0.1\n",
    "    L = np.array(L1) + np.array(A) * np.arange(k+1)\n",
    "    X1 = (L[0]+L[1])/2\n",
    "    X = np.array(X1) + np.array(A) * np.arange(k)\n",
    "    \n",
    "    return L, X"
   ]
  },
  {
   "cell_type": "code",
   "execution_count": 96,
   "id": "2bb37a3c-7522-45e3-9616-b27f0decc7ab",
   "metadata": {},
   "outputs": [
    {
     "name": "stdout",
     "output_type": "stream",
     "text": [
      "K:  10\n",
      "Clases Scott:  [20.95 22.25 23.55 24.85 26.15 27.45 28.75 30.05 31.35 32.65 33.95]\n",
      "Marcas Scott:  [21.6 22.9 24.2 25.5 26.8 28.1 29.4 30.7 32.  33.3]\n"
     ]
    }
   ],
   "source": [
    "# Regla de Scott\n",
    "n = len(cw)\n",
    "As = 3.5 * np.std(cw)*(n**(-1/3))\n",
    "k1 = ceil((max(cw) - min(cw))/As)\n",
    "LScott, XScott = returnClassesAndMarks(cw, k1)\n",
    "print(\"K: \", k1)\n",
    "print(\"Clases Scott: \", LScott)\n",
    "print(\"Marcas Scott: \", XScott)"
   ]
  },
  {
   "cell_type": "markdown",
   "id": "8f2ae830-3921-428d-bee3-b702ae48a2e8",
   "metadata": {},
   "source": [
    "## Pregunta 2\n",
    "Da el algoritmo para reproducir el proceso de generación de clases y sus marcas donde el número de clases\n",
    "ha sido obtenido con la regla de la raíz en Python."
   ]
  },
  {
   "cell_type": "code",
   "execution_count": 97,
   "id": "8c13c486-1abe-469d-bcda-e4ae23b46c36",
   "metadata": {},
   "outputs": [
    {
     "name": "stdout",
     "output_type": "stream",
     "text": [
      "K:  14\n",
      "Clases Raíz:  [20.95 21.85 22.75 23.65 24.55 25.45 26.35 27.25 28.15 29.05 29.95 30.85\n",
      " 31.75 32.65 33.55]\n",
      "Marcas Raíz:  [21.4 22.3 23.2 24.1 25.  25.9 26.8 27.7 28.6 29.5 30.4 31.3 32.2 33.1]\n"
     ]
    }
   ],
   "source": [
    "# Regla de la raíz\n",
    "k2 = ceil(np.sqrt(n))\n",
    "LRaiz, XRaiz = returnClassesAndMarks(cw, k2)\n",
    "print(\"K: \", k2)\n",
    "print(\"Clases Raíz: \", LRaiz)\n",
    "print(\"Marcas Raíz: \", XRaiz)"
   ]
  },
  {
   "cell_type": "markdown",
   "id": "e8ca2cc4-11b1-4f60-baa8-171879cdc551",
   "metadata": {},
   "source": [
    "## Pregunta 3\n",
    "Da el algoritmo para reproducir el proceso de generación de clases y sus marcas donde el número de clases\n",
    "ha sido obtenido con la regla de la Sturges en Python"
   ]
  },
  {
   "cell_type": "code",
   "execution_count": 98,
   "id": "54cf48f8-cb88-4f21-a6c6-5b3facd2e426",
   "metadata": {},
   "outputs": [
    {
     "name": "stdout",
     "output_type": "stream",
     "text": [
      "K:  9\n",
      "Clases Sturges:  [20.95 22.35 23.75 25.15 26.55 27.95 29.35 30.75 32.15 33.55]\n",
      "Marcas Sturges:  [21.65 23.05 24.45 25.85 27.25 28.65 30.05 31.45 32.85]\n"
     ]
    }
   ],
   "source": [
    "# Regla de Sturges\n",
    "k3 = ceil(1+np.log2(n))\n",
    "LSturges, XSturges = returnClassesAndMarks(cw, k3)\n",
    "print(\"K: \", k3)\n",
    "print(\"Clases Sturges: \", LSturges)\n",
    "print(\"Marcas Sturges: \", XSturges)"
   ]
  },
  {
   "cell_type": "markdown",
   "id": "2e2b063f-8878-42ec-9694-fcd50845e7f9",
   "metadata": {},
   "source": [
    "## Pregunta 4\n",
    "Da el algoritmo para reproducir el proceso de generación de clases y sus marcas donde el número de clases\n",
    "ha sido obtenido con la regla de la Freedman-Diaconis en Python."
   ]
  },
  {
   "cell_type": "code",
   "execution_count": 99,
   "id": "989213e7-a69c-4fd8-a20c-e6231438a0f9",
   "metadata": {},
   "outputs": [
    {
     "name": "stdout",
     "output_type": "stream",
     "text": [
      "K:  13\n",
      "Clases Freedman-Diaconis:  [20.95 21.95 22.95 23.95 24.95 25.95 26.95 27.95 28.95 29.95 30.95 31.95\n",
      " 32.95 33.95]\n",
      "Marcas Freedman-Diaconis:  [21.45 22.45 23.45 24.45 25.45 26.45 27.45 28.45 29.45 30.45 31.45 32.45\n",
      " 33.45]\n"
     ]
    }
   ],
   "source": [
    "# Regla de Freedman-Diaconis\n",
    "Afd = 2*(np.percentile(cw, 75) - np.percentile(cw, 25))*n**(-1/3)\n",
    "k4 = ceil((max(cw) - min(cw))/Afd)\n",
    "LFD, XFD = returnClassesAndMarks(cw, k4)\n",
    "print(\"K: \", k4)\n",
    "print(\"Clases Freedman-Diaconis: \", LFD)\n",
    "print(\"Marcas Freedman-Diaconis: \", XFD)"
   ]
  }
 ],
 "metadata": {
  "kernelspec": {
   "display_name": "Python 3 (ipykernel)",
   "language": "python",
   "name": "python3"
  },
  "language_info": {
   "codemirror_mode": {
    "name": "ipython",
    "version": 3
   },
   "file_extension": ".py",
   "mimetype": "text/x-python",
   "name": "python",
   "nbconvert_exporter": "python",
   "pygments_lexer": "ipython3",
   "version": "3.9.7"
  }
 },
 "nbformat": 4,
 "nbformat_minor": 5
}
