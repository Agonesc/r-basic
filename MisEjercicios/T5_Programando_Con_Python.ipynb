{
 "cells": [
  {
   "cell_type": "markdown",
   "id": "2d627aa7-5d26-47e4-91c8-6ae45b8bac49",
   "metadata": {},
   "source": [
    "# Pregunta 1\n",
    "Crea una función que reciba los tres coeficientes a, b y c para resolver una ecuación de segundo grado.\n",
    "Muestra la solución por pantalla y ayúdate de la librería math para acceder a la función raíz cuadrada."
   ]
  },
  {
   "cell_type": "code",
   "execution_count": 157,
   "id": "590456b9-46d3-4659-bdee-70e39827c73b",
   "metadata": {},
   "outputs": [],
   "source": [
    "import math\n",
    "import numpy as np"
   ]
  },
  {
   "cell_type": "code",
   "execution_count": 158,
   "id": "76a6d8a4-89c8-4002-9a87-6ed6104c9fd5",
   "metadata": {},
   "outputs": [],
   "source": [
    "def segundoGrado (a, b, c):\n",
    "    x1 = (-b+math.sqrt(b**2-4*a*c))/2*a\n",
    "    x2 = (-b-math.sqrt(b**2-4*a*c))/2*a\n",
    "    print (\"Primer resultado: \" + str(x1))\n",
    "    print (\"Segundo resultado: \" + str(x2))"
   ]
  },
  {
   "cell_type": "code",
   "execution_count": 159,
   "id": "f6994aff-521a-4800-b06e-a47612573da9",
   "metadata": {},
   "outputs": [
    {
     "name": "stdout",
     "output_type": "stream",
     "text": [
      "Primer resultado: 4.0\n",
      "Segundo resultado: 2.0\n"
     ]
    }
   ],
   "source": [
    "segundoGrado(2, -3, 1)"
   ]
  },
  {
   "cell_type": "markdown",
   "id": "66fbacce-6f12-4cc1-a215-336f4ada71a9",
   "metadata": {},
   "source": [
    "# Pregunta 2\n",
    "Crea una función que lea una frase de teclado y nos diga si es o no un palíndromo (frase que se lee igual de\n",
    "izquierda a derecha o al revés como por ejemplo “La ruta nos aportó otro paso natural”)."
   ]
  },
  {
   "cell_type": "code",
   "execution_count": 6,
   "id": "882d98aa-37d7-4013-b438-d3e2789a22fa",
   "metadata": {},
   "outputs": [],
   "source": [
    "import unicodedata\n",
    "\n",
    "def quitarTildes(cadena):\n",
    "    nfkd_form = unicodedata.normalize('NFKD', cadena)\n",
    "    return u\"\".join([c for c in nfkd_form if not unicodedata.combining(c)])\n",
    "\n",
    "def esPalindromo():\n",
    "    cadena = input(\"Introduce una frase: \")\n",
    "    cadenaReplace = cadena.replace(\" \", \"\")\n",
    "    mitad = int(len(cadenaReplace)/2)\n",
    "    cadenaReplace = quitarTildes(cadenaReplace).lower()\n",
    "    if cadenaReplace[0:mitad] == cadenaReplace[::-1][0:mitad]:\n",
    "        print(\"La frase '\" + cadena + \"' es un palíndromo\")\n",
    "    else:\n",
    "        print(\"La frase '\" + cadena + \"' NO es un palíndromo\")"
   ]
  },
  {
   "cell_type": "code",
   "execution_count": 129,
   "id": "2dac51b9-c19c-4783-adc1-2e6a5d22711a",
   "metadata": {},
   "outputs": [
    {
     "name": "stdin",
     "output_type": "stream",
     "text": [
      "Introduce una frase:  La ruta nos aporta otro paso natural\n"
     ]
    },
    {
     "name": "stdout",
     "output_type": "stream",
     "text": [
      "La frase 'La ruta nos aporta otro paso natural' NO es un palíndromo\n"
     ]
    }
   ],
   "source": [
    "esPalindromo() \n"
   ]
  },
  {
   "cell_type": "markdown",
   "id": "8ae5cc44-3366-488e-8974-d6963566c59d",
   "metadata": {},
   "source": [
    "# Pregunta 3\n",
    "Crea un diccionario que tenga por claves los números del 1 al 10 y como valores sus raíces cuadradas."
   ]
  },
  {
   "cell_type": "code",
   "execution_count": 150,
   "id": "294d6c94-e31f-43c8-87ad-2da29f5a28f6",
   "metadata": {},
   "outputs": [
    {
     "data": {
      "text/plain": [
       "dict_values([1, 4, 9, 16, 25, 36, 49, 64, 81, 100])"
      ]
     },
     "execution_count": 150,
     "metadata": {},
     "output_type": "execute_result"
    }
   ],
   "source": [
    "L1 = [1, 2, 3, 4, 5, 6, 7, 8, 9, 10]\n",
    "dict1 = { i : i**2 for i in L1 }\n",
    "dict1.keys()\n",
    "dict1.values()"
   ]
  },
  {
   "cell_type": "markdown",
   "id": "b7d526ad-c7ab-4cdc-8ab6-b43eda391ce6",
   "metadata": {},
   "source": [
    "# Pregunta 4\n",
    "Crea un diccionario que tenga como claves las letras del alfabeto castellano y como valores los símbolos del\n",
    "código morse (los tienes todos en la Wikipedia). A continuación crea una función que lea una frase del\n",
    "teclado y te la convierta a morse utilizando el diccionario anterior."
   ]
  },
  {
   "cell_type": "code",
   "execution_count": 18,
   "id": "6b774362-7592-4465-9e77-8a134bf6f623",
   "metadata": {},
   "outputs": [],
   "source": [
    "dict2 = { \n",
    "    'A':'.-', 'B':'-...', 'C':'-.-.', 'D':'-..', 'E':'.', 'F':'..-.', 'G':'--.', \n",
    "    'H':'....', 'I':'..', 'J':'.---', 'K':'-.-', 'L':'.-..', 'M':'--', 'N':'-.', \n",
    "    'Ñ':'--.--', 'O':'---', 'P':'.--.', 'Q':'--.-', 'R':'.-.', 'S':'...', 'T':'-', \n",
    "    'U':'..-', 'V':'...-', 'W':'.--', 'X':'-..-', 'Y':'-.--', 'Z':'--..',\n",
    "}\n",
    "\n",
    "def toMorse():\n",
    "    cadena = input(\"Introduce una frase: \")\n",
    "    cadena = quitarTildes(cadena).upper()\n",
    "    morse = ''\n",
    "    for c in cadena:\n",
    "        if c in dict2:\n",
    "            morse += dict2[c] + \" \"\n",
    "        else:\n",
    "            morse += \" \"\n",
    "    print(morse)\n",
    "    \n"
   ]
  },
  {
   "cell_type": "code",
   "execution_count": 19,
   "id": "16f474e0-9661-481f-b1d3-5723ac816949",
   "metadata": {},
   "outputs": [
    {
     "name": "stdin",
     "output_type": "stream",
     "text": [
      "Introduce una frase:  La ruta nos aportó otro paso natural\n"
     ]
    },
    {
     "name": "stdout",
     "output_type": "stream",
     "text": [
      ".-.. .-  .-. ..- - .-  -. --- ...  .- .--. --- .-. - ---  --- - .-. ---  .--. .- ... ---  -. .- - ..- .-. .- .-.. \n"
     ]
    }
   ],
   "source": [
    "toMorse()"
   ]
  },
  {
   "cell_type": "markdown",
   "id": "88bf8f0f-eaa4-4f56-a4f9-9d3cb1c4a2d3",
   "metadata": {},
   "source": [
    "# Pregunta 5\n",
    "Crea una función que dados dos diccionarios nos diga qué claves están presentes en ambos."
   ]
  },
  {
   "cell_type": "code",
   "execution_count": 53,
   "id": "60153a74-b60c-4f65-a620-b3fe1adc77d7",
   "metadata": {},
   "outputs": [],
   "source": [
    "def clavesIguales (a, b):\n",
    "    lista = []\n",
    "    for key in b:    \n",
    "        if key in a:\n",
    "            lista.append(key)\n",
    "            \n",
    "    print(\"Keys en ambos diccionarios: \") \n",
    "    print(lista)\n",
    "\n",
    "def valuesIguales (a, b):\n",
    "    lista = []\n",
    "    for value in b.values():    \n",
    "        if value in a.values():\n",
    "            lista.append(value)\n",
    "            \n",
    "    print(\"Values en ambos diccionarios: \") \n",
    "    print(lista)"
   ]
  },
  {
   "cell_type": "code",
   "execution_count": 54,
   "id": "fd3707aa-d28c-4c40-b43d-da0f5ea32750",
   "metadata": {},
   "outputs": [
    {
     "name": "stdout",
     "output_type": "stream",
     "text": [
      "Keys en ambos diccionarios: \n",
      "['b', 'c']\n"
     ]
    }
   ],
   "source": [
    "dict3 = { 'a' : 1, 'b' : 2, 'c' : 3 }\n",
    "dict4 = { 'b' : 2, 'c' : 3, 'd' : 4 }\n",
    "\n",
    "clavesIguales(dict3, dict4)"
   ]
  },
  {
   "cell_type": "markdown",
   "id": "1545aa2b-8c3e-4581-93ed-730f83a94d5e",
   "metadata": {},
   "source": [
    "# Pregunta 6\n",
    "Crea una función que dado un número N nos diga si es primo o no (tiene que ir dividiendo por todos los\n",
    "números x comprendidos entre 2 y el número N − 1 y ver si la división de N/x tiene resto cero o no)."
   ]
  },
  {
   "cell_type": "code",
   "execution_count": 60,
   "id": "755b6908-484f-4e80-93ad-f8fecb10c34d",
   "metadata": {},
   "outputs": [],
   "source": [
    "def esPrimo(n):\n",
    "    for i in range(2, n-1):\n",
    "        if n%i == 0:\n",
    "            print(\"El número \" + str(n) + \" NO es primo\")\n",
    "            break\n",
    "    else:\n",
    "        print(\"El número \" + str(n) + \" es primo\")\n",
    "                \n",
    "    "
   ]
  },
  {
   "cell_type": "code",
   "execution_count": 70,
   "id": "52e73997-b18a-45e8-aa41-c7dfa4485eb4",
   "metadata": {},
   "outputs": [
    {
     "name": "stdout",
     "output_type": "stream",
     "text": [
      "El número 37 es primo\n"
     ]
    }
   ],
   "source": [
    "esPrimo(37)"
   ]
  },
  {
   "cell_type": "markdown",
   "id": "5b289f90-fe67-4097-9991-493752b3ff7b",
   "metadata": {},
   "source": [
    "# Pregunta 7\n",
    "Investiga la documentación de la clase string y crea un método que lea una frase del teclado y escriba la\n",
    "primera letra de cada palabra en Mayúscula"
   ]
  },
  {
   "cell_type": "code",
   "execution_count": 71,
   "id": "3a6114df-c329-4302-9f83-565661fd580e",
   "metadata": {},
   "outputs": [],
   "source": [
    "def primeraMayus():\n",
    "    cadena = input (\"Introduce una frase: \")\n",
    "    print(cadena.title())"
   ]
  },
  {
   "cell_type": "code",
   "execution_count": 72,
   "id": "e8ee3015-b40d-4fe1-8d4e-eddffa5b127d",
   "metadata": {},
   "outputs": [
    {
     "name": "stdin",
     "output_type": "stream",
     "text": [
      "Introduce una frase:  esto es una prueba A ver Si funciona\n"
     ]
    },
    {
     "name": "stdout",
     "output_type": "stream",
     "text": [
      "Esto Es Una Prueba A Ver Si Funciona\n"
     ]
    }
   ],
   "source": [
    "primeraMayus()"
   ]
  },
  {
   "cell_type": "markdown",
   "id": "fa9b707f-95c2-4fda-8256-becc8f284191",
   "metadata": {},
   "source": [
    "# Pregunta 8\n",
    "Crea una función que calcule el máximo común divisor de dos números introducidos por el usuario por\n",
    "teclado"
   ]
  },
  {
   "cell_type": "code",
   "execution_count": 76,
   "id": "3c9b3bbd-4c29-4078-8a6f-56b77c5a1644",
   "metadata": {},
   "outputs": [],
   "source": [
    "def mcd(a, b):\n",
    "    temp = 0\n",
    "    while b != 0:\n",
    "        temporal = b\n",
    "        b = a % b\n",
    "        a = temporal\n",
    "    return a"
   ]
  },
  {
   "cell_type": "code",
   "execution_count": 77,
   "id": "95f8a4db-33d7-4dfd-8b83-f0c1f838b071",
   "metadata": {},
   "outputs": [
    {
     "data": {
      "text/plain": [
       "100"
      ]
     },
     "execution_count": 77,
     "metadata": {},
     "output_type": "execute_result"
    }
   ],
   "source": [
    "mcd(300, 3200)"
   ]
  },
  {
   "cell_type": "markdown",
   "id": "eb49ff55-593e-42b1-ade0-2bda9855ae9f",
   "metadata": {},
   "source": [
    "# Pregunta 9\n",
    "Investiga el Cifrado del César y crea una función que lo reproduzca en Python. Cada letra del mensaje\n",
    "original se desplaza tres posiciones en el alfabeto estándar. La A se convierte en la D, la B se convierte en la\n",
    "E, la C se convierte en la F. . . y cuando se acaba el alfabeto se le vuelve a dar la vuelta: la X se convierte\n",
    "en la A, la Y en la B y la X en la C. Los números no sufren ninguna modificación."
   ]
  },
  {
   "cell_type": "code",
   "execution_count": 115,
   "id": "ff145d34-2ba1-49dc-868d-2a90352e68c7",
   "metadata": {},
   "outputs": [],
   "source": [
    "def cifradoCesar():\n",
    "    alfabeto = ['a', 'b', 'c', 'd', 'e', 'f', 'g', 'h', 'i', 'j', 'k', 'l', 'm', 'n', 'ñ', 'o', 'p', 'q', 'r', 's', 't', 'u', 'v', 'w', 'x', 'y', 'z']\n",
    "    numeros = [0, 1, 2, 3, 4, 5, 6, 7, 8, 9]\n",
    "    cadena = input(\"Introduce una frase a cifrar: \")\n",
    "    cadena = quitarTildes(cadena).lower()\n",
    "    cifrado = ''\n",
    "    for c in cadena:\n",
    "        if c in alfabeto:\n",
    "            indice = alfabeto.index(c)\n",
    "            cifrado += alfabeto[(indice+3)%len(alfabeto)]\n",
    "        else: \n",
    "            cifrado += c\n",
    "    print(\"Texto cifrado: \" + cifrado)"
   ]
  },
  {
   "cell_type": "code",
   "execution_count": 116,
   "id": "43ad3a6f-e44c-409a-b201-d5cb1403a958",
   "metadata": {},
   "outputs": [
    {
     "name": "stdin",
     "output_type": "stream",
     "text": [
      "Introduce una frase a cifrar:  Esto es 1 frase cifrada\n"
     ]
    },
    {
     "name": "stdout",
     "output_type": "stream",
     "text": [
      "Texto cifrado: hvwr hv 1 iudvh fliudgd\n"
     ]
    }
   ],
   "source": [
    "cifradoCesar()"
   ]
  },
  {
   "cell_type": "markdown",
   "id": "3dee1444-6f9b-4517-8a49-cd7b31fb6145",
   "metadata": {},
   "source": [
    "# Pregunta 10\n",
    "Dado una lista de nombres de persona, escribe una función que los ordene de tres formas diferentes:\n",
    "A. De forma alfabética\n",
    "B. De forma alfabética invertida\n",
    "C. De nombre más corto al más largo."
   ]
  },
  {
   "cell_type": "code",
   "execution_count": 153,
   "id": "7464cd1c-3c61-48ea-92aa-08c95fa058e4",
   "metadata": {},
   "outputs": [],
   "source": [
    "def ordenPorTamano(lista):\n",
    "    return len(lista)\n",
    "\n",
    "def ordenarLista(lista):\n",
    "    orden = int(input(\"Escriba 1 para ordenar alfabéticamente, 2 para ordenar alfabéticamente invertido o 3 para ordenar por longitud: \"))\n",
    "    print(orden)\n",
    "    # Por si introduce otro caracter \n",
    "    if orden != 1 and orden != 2 and orden != 3:\n",
    "        lista.sort()\n",
    "    else:\n",
    "        if orden == 1:\n",
    "            lista.sort()\n",
    "        elif orden == 2:\n",
    "            lista.sort(reverse=True)\n",
    "        else:\n",
    "            lista.sort(key=ordenPorTamano)\n",
    "    \n",
    "    print(lista)"
   ]
  },
  {
   "cell_type": "code",
   "execution_count": 154,
   "id": "5e96c433-5cbf-431e-8a6f-560bff77f9d9",
   "metadata": {},
   "outputs": [
    {
     "name": "stdin",
     "output_type": "stream",
     "text": [
      "Escriba 1 para ordenar alfabéticamente, 2 para ordenar alfabéticamente invertido o 3 para ordenar por longitud:  3\n"
     ]
    },
    {
     "name": "stdout",
     "output_type": "stream",
     "text": [
      "3\n",
      "['Luis', 'Angel', 'María', 'Isabel', 'Andrea', 'Fernando', 'Alejandra']\n"
     ]
    }
   ],
   "source": [
    "nombres = [\"Angel\", \"Fernando\", \"Luis\", \"María\", \"Isabel\", \"Alejandra\", \"Andrea\"]\n",
    "ordenarLista(nombres)"
   ]
  }
 ],
 "metadata": {
  "kernelspec": {
   "display_name": "Python 3 (ipykernel)",
   "language": "python",
   "name": "python3"
  },
  "language_info": {
   "codemirror_mode": {
    "name": "ipython",
    "version": 3
   },
   "file_extension": ".py",
   "mimetype": "text/x-python",
   "name": "python",
   "nbconvert_exporter": "python",
   "pygments_lexer": "ipython3",
   "version": "3.9.7"
  }
 },
 "nbformat": 4,
 "nbformat_minor": 5
}
